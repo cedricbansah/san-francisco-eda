{
 "cells": [
  {
   "cell_type": "markdown",
   "metadata": {},
   "source": [
    "# Exploratory Data Analysis on San Francisco Employee Dataset "
   ]
  },
  {
   "cell_type": "markdown",
   "metadata": {},
   "source": [
    "### Import Libraries"
   ]
  },
  {
   "cell_type": "code",
   "execution_count": 271,
   "metadata": {},
   "outputs": [],
   "source": [
    "import warnings\n",
    "warnings.filterwarnings('ignore')\n",
    "import pandas as pd \n",
    "import numpy as np\n",
    "import matplotlib.pyplot as plt\n",
    "import seaborn as sns"
   ]
  },
  {
   "cell_type": "code",
   "execution_count": 272,
   "metadata": {},
   "outputs": [],
   "source": [
    "%matplotlib inline"
   ]
  },
  {
   "cell_type": "markdown",
   "metadata": {},
   "source": [
    "### Load Dataset"
   ]
  },
  {
   "cell_type": "code",
   "execution_count": 273,
   "metadata": {},
   "outputs": [
    {
     "data": {
      "text/html": [
       "<div>\n",
       "<style scoped>\n",
       "    .dataframe tbody tr th:only-of-type {\n",
       "        vertical-align: middle;\n",
       "    }\n",
       "\n",
       "    .dataframe tbody tr th {\n",
       "        vertical-align: top;\n",
       "    }\n",
       "\n",
       "    .dataframe thead th {\n",
       "        text-align: right;\n",
       "    }\n",
       "</style>\n",
       "<table border=\"1\" class=\"dataframe\">\n",
       "  <thead>\n",
       "    <tr style=\"text-align: right;\">\n",
       "      <th></th>\n",
       "      <th>EmployeeName</th>\n",
       "      <th>JobTitle</th>\n",
       "      <th>BasePay</th>\n",
       "      <th>OvertimePay</th>\n",
       "      <th>OtherPay</th>\n",
       "      <th>Benefits</th>\n",
       "      <th>TotalPay</th>\n",
       "      <th>TotalPayBenefits</th>\n",
       "      <th>Year</th>\n",
       "    </tr>\n",
       "  </thead>\n",
       "  <tbody>\n",
       "    <tr>\n",
       "      <th>0</th>\n",
       "      <td>NATHANIEL FORD</td>\n",
       "      <td>GENERAL MANAGER-METROPOLITAN TRANSIT AUTHORITY</td>\n",
       "      <td>167411</td>\n",
       "      <td>0</td>\n",
       "      <td>400184</td>\n",
       "      <td>Not Provided</td>\n",
       "      <td>567595.43</td>\n",
       "      <td>567595.43</td>\n",
       "      <td>2011</td>\n",
       "    </tr>\n",
       "    <tr>\n",
       "      <th>1</th>\n",
       "      <td>GARY JIMENEZ</td>\n",
       "      <td>CAPTAIN III (POLICE DEPARTMENT)</td>\n",
       "      <td>155966</td>\n",
       "      <td>245132</td>\n",
       "      <td>137811</td>\n",
       "      <td>Not Provided</td>\n",
       "      <td>538909.28</td>\n",
       "      <td>538909.28</td>\n",
       "      <td>2011</td>\n",
       "    </tr>\n",
       "    <tr>\n",
       "      <th>2</th>\n",
       "      <td>ALBERT PARDINI</td>\n",
       "      <td>CAPTAIN III (POLICE DEPARTMENT)</td>\n",
       "      <td>212739</td>\n",
       "      <td>106088</td>\n",
       "      <td>16452.6</td>\n",
       "      <td>Not Provided</td>\n",
       "      <td>335279.91</td>\n",
       "      <td>335279.91</td>\n",
       "      <td>2011</td>\n",
       "    </tr>\n",
       "    <tr>\n",
       "      <th>3</th>\n",
       "      <td>CHRISTOPHER CHONG</td>\n",
       "      <td>WIRE ROPE CABLE MAINTENANCE MECHANIC</td>\n",
       "      <td>77916</td>\n",
       "      <td>56120.7</td>\n",
       "      <td>198307</td>\n",
       "      <td>Not Provided</td>\n",
       "      <td>332343.61</td>\n",
       "      <td>332343.61</td>\n",
       "      <td>2011</td>\n",
       "    </tr>\n",
       "    <tr>\n",
       "      <th>4</th>\n",
       "      <td>PATRICK GARDNER</td>\n",
       "      <td>DEPUTY CHIEF OF DEPARTMENT,(FIRE DEPARTMENT)</td>\n",
       "      <td>134402</td>\n",
       "      <td>9737</td>\n",
       "      <td>182235</td>\n",
       "      <td>Not Provided</td>\n",
       "      <td>326373.19</td>\n",
       "      <td>326373.19</td>\n",
       "      <td>2011</td>\n",
       "    </tr>\n",
       "  </tbody>\n",
       "</table>\n",
       "</div>"
      ],
      "text/plain": [
       "        EmployeeName                                        JobTitle BasePay  \\\n",
       "0     NATHANIEL FORD  GENERAL MANAGER-METROPOLITAN TRANSIT AUTHORITY  167411   \n",
       "1       GARY JIMENEZ                 CAPTAIN III (POLICE DEPARTMENT)  155966   \n",
       "2     ALBERT PARDINI                 CAPTAIN III (POLICE DEPARTMENT)  212739   \n",
       "3  CHRISTOPHER CHONG            WIRE ROPE CABLE MAINTENANCE MECHANIC   77916   \n",
       "4    PATRICK GARDNER    DEPUTY CHIEF OF DEPARTMENT,(FIRE DEPARTMENT)  134402   \n",
       "\n",
       "  OvertimePay OtherPay      Benefits   TotalPay  TotalPayBenefits  Year  \n",
       "0           0   400184  Not Provided  567595.43         567595.43  2011  \n",
       "1      245132   137811  Not Provided  538909.28         538909.28  2011  \n",
       "2      106088  16452.6  Not Provided  335279.91         335279.91  2011  \n",
       "3     56120.7   198307  Not Provided  332343.61         332343.61  2011  \n",
       "4        9737   182235  Not Provided  326373.19         326373.19  2011  "
      ]
     },
     "execution_count": 273,
     "metadata": {},
     "output_type": "execute_result"
    }
   ],
   "source": [
    "data = pd.read_csv('Total.csv')\n",
    "data.head()"
   ]
  },
  {
   "cell_type": "markdown",
   "metadata": {},
   "source": [
    "### Clean the data"
   ]
  },
  {
   "cell_type": "code",
   "execution_count": 274,
   "metadata": {},
   "outputs": [
    {
     "name": "stdout",
     "output_type": "stream",
     "text": [
      "<class 'pandas.core.frame.DataFrame'>\n",
      "RangeIndex: 312882 entries, 0 to 312881\n",
      "Data columns (total 9 columns):\n",
      " #   Column            Non-Null Count   Dtype  \n",
      "---  ------            --------------   -----  \n",
      " 0   EmployeeName      312882 non-null  object \n",
      " 1   JobTitle          312882 non-null  object \n",
      " 2   BasePay           312882 non-null  object \n",
      " 3   OvertimePay       312882 non-null  object \n",
      " 4   OtherPay          312882 non-null  object \n",
      " 5   Benefits          312882 non-null  object \n",
      " 6   TotalPay          312882 non-null  float64\n",
      " 7   TotalPayBenefits  312882 non-null  float64\n",
      " 8   Year              312882 non-null  int64  \n",
      "dtypes: float64(2), int64(1), object(6)\n",
      "memory usage: 21.5+ MB\n"
     ]
    }
   ],
   "source": [
    "data.info()   # get summary information on dataset"
   ]
  },
  {
   "cell_type": "code",
   "execution_count": 275,
   "metadata": {},
   "outputs": [
    {
     "data": {
      "text/plain": [
       "EmployeeName        Kevin P Cashman\n",
       "JobTitle             Deputy Chief 3\n",
       "BasePay                Not Provided\n",
       "OvertimePay                       0\n",
       "OtherPay                     149934\n",
       "Benefits                          0\n",
       "TotalPay                     149934\n",
       "TotalPayBenefits             149934\n",
       "Year                           2013\n",
       "Name: 81391, dtype: object"
      ]
     },
     "execution_count": 275,
     "metadata": {},
     "output_type": "execute_result"
    }
   ],
   "source": [
    "data.iloc[81391]   # locate a random row and observe entries"
   ]
  },
  {
   "cell_type": "markdown",
   "metadata": {},
   "source": [
    "In the entry above, the BasePay column had the value \"Not Provided\". Such entries will not be relevant in our analysis and so must be removed from the data."
   ]
  },
  {
   "cell_type": "code",
   "execution_count": 276,
   "metadata": {},
   "outputs": [
    {
     "data": {
      "text/html": [
       "<div>\n",
       "<style scoped>\n",
       "    .dataframe tbody tr th:only-of-type {\n",
       "        vertical-align: middle;\n",
       "    }\n",
       "\n",
       "    .dataframe tbody tr th {\n",
       "        vertical-align: top;\n",
       "    }\n",
       "\n",
       "    .dataframe thead th {\n",
       "        text-align: right;\n",
       "    }\n",
       "</style>\n",
       "<table border=\"1\" class=\"dataframe\">\n",
       "  <thead>\n",
       "    <tr style=\"text-align: right;\">\n",
       "      <th></th>\n",
       "      <th>EmployeeName</th>\n",
       "      <th>JobTitle</th>\n",
       "      <th>BasePay</th>\n",
       "      <th>OvertimePay</th>\n",
       "      <th>OtherPay</th>\n",
       "      <th>Benefits</th>\n",
       "      <th>TotalPay</th>\n",
       "      <th>TotalPayBenefits</th>\n",
       "      <th>Year</th>\n",
       "    </tr>\n",
       "  </thead>\n",
       "  <tbody>\n",
       "    <tr>\n",
       "      <th>36159</th>\n",
       "      <td>Gary Altenberg</td>\n",
       "      <td>Lieutenant, Fire Suppression</td>\n",
       "      <td>128809</td>\n",
       "      <td>220909</td>\n",
       "      <td>13126.3</td>\n",
       "      <td>44430.12</td>\n",
       "      <td>362844.66</td>\n",
       "      <td>407274.78</td>\n",
       "      <td>2012</td>\n",
       "    </tr>\n",
       "    <tr>\n",
       "      <th>36160</th>\n",
       "      <td>Gregory Suhr</td>\n",
       "      <td>Chief of Police</td>\n",
       "      <td>302578</td>\n",
       "      <td>0</td>\n",
       "      <td>18974.1</td>\n",
       "      <td>69810.19</td>\n",
       "      <td>321552.11</td>\n",
       "      <td>391362.30</td>\n",
       "      <td>2012</td>\n",
       "    </tr>\n",
       "    <tr>\n",
       "      <th>36161</th>\n",
       "      <td>Khoa Trinh</td>\n",
       "      <td>Electronic Maintenance Tech</td>\n",
       "      <td>111921</td>\n",
       "      <td>146415</td>\n",
       "      <td>78057.4</td>\n",
       "      <td>53102.29</td>\n",
       "      <td>336393.73</td>\n",
       "      <td>389496.02</td>\n",
       "      <td>2012</td>\n",
       "    </tr>\n",
       "    <tr>\n",
       "      <th>36162</th>\n",
       "      <td>Joanne Hayes-White</td>\n",
       "      <td>Chief, Fire Department</td>\n",
       "      <td>296943</td>\n",
       "      <td>0</td>\n",
       "      <td>17816.6</td>\n",
       "      <td>72047.88</td>\n",
       "      <td>314759.60</td>\n",
       "      <td>386807.48</td>\n",
       "      <td>2012</td>\n",
       "    </tr>\n",
       "    <tr>\n",
       "      <th>36163</th>\n",
       "      <td>Frederick Binkley</td>\n",
       "      <td>EMT/Paramedic/Firefighter</td>\n",
       "      <td>126863</td>\n",
       "      <td>192424</td>\n",
       "      <td>17917.2</td>\n",
       "      <td>44438.25</td>\n",
       "      <td>337204.86</td>\n",
       "      <td>381643.11</td>\n",
       "      <td>2012</td>\n",
       "    </tr>\n",
       "    <tr>\n",
       "      <th>...</th>\n",
       "      <td>...</td>\n",
       "      <td>...</td>\n",
       "      <td>...</td>\n",
       "      <td>...</td>\n",
       "      <td>...</td>\n",
       "      <td>...</td>\n",
       "      <td>...</td>\n",
       "      <td>...</td>\n",
       "      <td>...</td>\n",
       "    </tr>\n",
       "    <tr>\n",
       "      <th>312877</th>\n",
       "      <td>Daniel W Plautz</td>\n",
       "      <td>Public Service Trainee</td>\n",
       "      <td>0</td>\n",
       "      <td>0</td>\n",
       "      <td>0</td>\n",
       "      <td>0</td>\n",
       "      <td>0.00</td>\n",
       "      <td>0.00</td>\n",
       "      <td>2018</td>\n",
       "    </tr>\n",
       "    <tr>\n",
       "      <th>312878</th>\n",
       "      <td>David J Thompson</td>\n",
       "      <td>Deputy Sheriff</td>\n",
       "      <td>0</td>\n",
       "      <td>0</td>\n",
       "      <td>0</td>\n",
       "      <td>0</td>\n",
       "      <td>0.00</td>\n",
       "      <td>0.00</td>\n",
       "      <td>2018</td>\n",
       "    </tr>\n",
       "    <tr>\n",
       "      <th>312879</th>\n",
       "      <td>Keiko Weng Yee Lau</td>\n",
       "      <td>Public Service Trainee</td>\n",
       "      <td>0</td>\n",
       "      <td>0</td>\n",
       "      <td>0</td>\n",
       "      <td>0</td>\n",
       "      <td>0.00</td>\n",
       "      <td>0.00</td>\n",
       "      <td>2018</td>\n",
       "    </tr>\n",
       "    <tr>\n",
       "      <th>312880</th>\n",
       "      <td>David Wong</td>\n",
       "      <td>Deputy Sheriff</td>\n",
       "      <td>0</td>\n",
       "      <td>0</td>\n",
       "      <td>0</td>\n",
       "      <td>0</td>\n",
       "      <td>0.00</td>\n",
       "      <td>0.00</td>\n",
       "      <td>2018</td>\n",
       "    </tr>\n",
       "    <tr>\n",
       "      <th>312881</th>\n",
       "      <td>Debora E Howard</td>\n",
       "      <td>Recreation Leader</td>\n",
       "      <td>0</td>\n",
       "      <td>0</td>\n",
       "      <td>0</td>\n",
       "      <td>0</td>\n",
       "      <td>0.00</td>\n",
       "      <td>0.00</td>\n",
       "      <td>2018</td>\n",
       "    </tr>\n",
       "  </tbody>\n",
       "</table>\n",
       "<p>276117 rows × 9 columns</p>\n",
       "</div>"
      ],
      "text/plain": [
       "              EmployeeName                      JobTitle BasePay OvertimePay  \\\n",
       "36159       Gary Altenberg  Lieutenant, Fire Suppression  128809      220909   \n",
       "36160         Gregory Suhr               Chief of Police  302578           0   \n",
       "36161           Khoa Trinh   Electronic Maintenance Tech  111921      146415   \n",
       "36162   Joanne Hayes-White        Chief, Fire Department  296943           0   \n",
       "36163    Frederick Binkley     EMT/Paramedic/Firefighter  126863      192424   \n",
       "...                    ...                           ...     ...         ...   \n",
       "312877     Daniel W Plautz        Public Service Trainee       0           0   \n",
       "312878    David J Thompson                Deputy Sheriff       0           0   \n",
       "312879  Keiko Weng Yee Lau        Public Service Trainee       0           0   \n",
       "312880          David Wong                Deputy Sheriff       0           0   \n",
       "312881     Debora E Howard             Recreation Leader       0           0   \n",
       "\n",
       "       OtherPay  Benefits   TotalPay  TotalPayBenefits  Year  \n",
       "36159   13126.3  44430.12  362844.66         407274.78  2012  \n",
       "36160   18974.1  69810.19  321552.11         391362.30  2012  \n",
       "36161   78057.4  53102.29  336393.73         389496.02  2012  \n",
       "36162   17816.6  72047.88  314759.60         386807.48  2012  \n",
       "36163   17917.2  44438.25  337204.86         381643.11  2012  \n",
       "...         ...       ...        ...               ...   ...  \n",
       "312877        0         0       0.00              0.00  2018  \n",
       "312878        0         0       0.00              0.00  2018  \n",
       "312879        0         0       0.00              0.00  2018  \n",
       "312880        0         0       0.00              0.00  2018  \n",
       "312881        0         0       0.00              0.00  2018  \n",
       "\n",
       "[276117 rows x 9 columns]"
      ]
     },
     "execution_count": 276,
     "metadata": {},
     "output_type": "execute_result"
    }
   ],
   "source": [
    "# remove all such entries from other numerical columns \n",
    "\n",
    "list = ['BasePay','OvertimePay','OtherPay','Benefits']\n",
    "for category in list:\n",
    "    data = data[data[category] != 'Not Provided']\n",
    "data"
   ]
  },
  {
   "cell_type": "markdown",
   "metadata": {},
   "source": [
    "From data.info() it was observed that the dtypes for columns containing numerical values weren't classified as such."
   ]
  },
  {
   "cell_type": "code",
   "execution_count": 277,
   "metadata": {},
   "outputs": [
    {
     "name": "stdout",
     "output_type": "stream",
     "text": [
      "<class 'pandas.core.frame.DataFrame'>\n",
      "Int64Index: 276117 entries, 36159 to 312881\n",
      "Data columns (total 9 columns):\n",
      " #   Column            Non-Null Count   Dtype  \n",
      "---  ------            --------------   -----  \n",
      " 0   EmployeeName      276117 non-null  object \n",
      " 1   JobTitle          276117 non-null  object \n",
      " 2   BasePay           276117 non-null  float64\n",
      " 3   OvertimePay       276117 non-null  float64\n",
      " 4   OtherPay          276117 non-null  float64\n",
      " 5   Benefits          276117 non-null  float64\n",
      " 6   TotalPay          276117 non-null  float64\n",
      " 7   TotalPayBenefits  276117 non-null  float64\n",
      " 8   Year              276117 non-null  int64  \n",
      "dtypes: float64(6), int64(1), object(2)\n",
      "memory usage: 21.1+ MB\n"
     ]
    }
   ],
   "source": [
    "# Convert columns to numeric \n",
    "#This also acts as a checker to see if there are any more unwanted entries in the column\n",
    "\n",
    "for category in list:\n",
    "    data[category] = pd.to_numeric(data[category])\n",
    "data.info()"
   ]
  },
  {
   "cell_type": "code",
   "execution_count": 278,
   "metadata": {},
   "outputs": [
    {
     "data": {
      "text/html": [
       "<div>\n",
       "<style scoped>\n",
       "    .dataframe tbody tr th:only-of-type {\n",
       "        vertical-align: middle;\n",
       "    }\n",
       "\n",
       "    .dataframe tbody tr th {\n",
       "        vertical-align: top;\n",
       "    }\n",
       "\n",
       "    .dataframe thead th {\n",
       "        text-align: right;\n",
       "    }\n",
       "</style>\n",
       "<table border=\"1\" class=\"dataframe\">\n",
       "  <thead>\n",
       "    <tr style=\"text-align: right;\">\n",
       "      <th></th>\n",
       "      <th>BasePay</th>\n",
       "      <th>OvertimePay</th>\n",
       "      <th>OtherPay</th>\n",
       "      <th>Benefits</th>\n",
       "      <th>TotalPay</th>\n",
       "      <th>TotalPayBenefits</th>\n",
       "      <th>Year</th>\n",
       "    </tr>\n",
       "  </thead>\n",
       "  <tbody>\n",
       "    <tr>\n",
       "      <th>count</th>\n",
       "      <td>276117.000000</td>\n",
       "      <td>276117.000000</td>\n",
       "      <td>276117.000000</td>\n",
       "      <td>276117.000000</td>\n",
       "      <td>276117.000000</td>\n",
       "      <td>276117.000000</td>\n",
       "      <td>276117.000000</td>\n",
       "    </tr>\n",
       "    <tr>\n",
       "      <th>mean</th>\n",
       "      <td>70621.791582</td>\n",
       "      <td>5830.348157</td>\n",
       "      <td>3438.137903</td>\n",
       "      <td>25060.072463</td>\n",
       "      <td>79890.277641</td>\n",
       "      <td>104950.350104</td>\n",
       "      <td>2015.103612</td>\n",
       "    </tr>\n",
       "    <tr>\n",
       "      <th>std</th>\n",
       "      <td>45908.600575</td>\n",
       "      <td>13014.397091</td>\n",
       "      <td>7285.200937</td>\n",
       "      <td>15076.283829</td>\n",
       "      <td>53805.549905</td>\n",
       "      <td>67579.288482</td>\n",
       "      <td>1.997828</td>\n",
       "    </tr>\n",
       "    <tr>\n",
       "      <th>min</th>\n",
       "      <td>-474.400000</td>\n",
       "      <td>-292.800000</td>\n",
       "      <td>-7058.590000</td>\n",
       "      <td>-13939.420000</td>\n",
       "      <td>-618.130000</td>\n",
       "      <td>-3628.780000</td>\n",
       "      <td>2012.000000</td>\n",
       "    </tr>\n",
       "    <tr>\n",
       "      <th>25%</th>\n",
       "      <td>36083.880000</td>\n",
       "      <td>0.000000</td>\n",
       "      <td>0.000000</td>\n",
       "      <td>12935.090000</td>\n",
       "      <td>39604.480000</td>\n",
       "      <td>53091.930000</td>\n",
       "      <td>2013.000000</td>\n",
       "    </tr>\n",
       "    <tr>\n",
       "      <th>50%</th>\n",
       "      <td>68432.810000</td>\n",
       "      <td>0.000000</td>\n",
       "      <td>720.000000</td>\n",
       "      <td>28347.670000</td>\n",
       "      <td>75986.010000</td>\n",
       "      <td>104454.640000</td>\n",
       "      <td>2015.000000</td>\n",
       "    </tr>\n",
       "    <tr>\n",
       "      <th>75%</th>\n",
       "      <td>100674.000000</td>\n",
       "      <td>5412.660000</td>\n",
       "      <td>3953.740000</td>\n",
       "      <td>35285.920000</td>\n",
       "      <td>112794.900000</td>\n",
       "      <td>148009.380000</td>\n",
       "      <td>2017.000000</td>\n",
       "    </tr>\n",
       "    <tr>\n",
       "      <th>max</th>\n",
       "      <td>592394.340000</td>\n",
       "      <td>309481.030000</td>\n",
       "      <td>342802.630000</td>\n",
       "      <td>125891.730000</td>\n",
       "      <td>592394.340000</td>\n",
       "      <td>712802.360000</td>\n",
       "      <td>2018.000000</td>\n",
       "    </tr>\n",
       "  </tbody>\n",
       "</table>\n",
       "</div>"
      ],
      "text/plain": [
       "             BasePay    OvertimePay       OtherPay       Benefits  \\\n",
       "count  276117.000000  276117.000000  276117.000000  276117.000000   \n",
       "mean    70621.791582    5830.348157    3438.137903   25060.072463   \n",
       "std     45908.600575   13014.397091    7285.200937   15076.283829   \n",
       "min      -474.400000    -292.800000   -7058.590000  -13939.420000   \n",
       "25%     36083.880000       0.000000       0.000000   12935.090000   \n",
       "50%     68432.810000       0.000000     720.000000   28347.670000   \n",
       "75%    100674.000000    5412.660000    3953.740000   35285.920000   \n",
       "max    592394.340000  309481.030000  342802.630000  125891.730000   \n",
       "\n",
       "            TotalPay  TotalPayBenefits           Year  \n",
       "count  276117.000000     276117.000000  276117.000000  \n",
       "mean    79890.277641     104950.350104    2015.103612  \n",
       "std     53805.549905      67579.288482       1.997828  \n",
       "min      -618.130000      -3628.780000    2012.000000  \n",
       "25%     39604.480000      53091.930000    2013.000000  \n",
       "50%     75986.010000     104454.640000    2015.000000  \n",
       "75%    112794.900000     148009.380000    2017.000000  \n",
       "max    592394.340000     712802.360000    2018.000000  "
      ]
     },
     "execution_count": 278,
     "metadata": {},
     "output_type": "execute_result"
    }
   ],
   "source": [
    "data.describe()"
   ]
  },
  {
   "cell_type": "markdown",
   "metadata": {},
   "source": [
    "There are zeros and negative numbers as the minimum values of the various Pay columns. This is clearly invalid or irrelevant data and all entries in that margin will be dropped."
   ]
  },
  {
   "cell_type": "code",
   "execution_count": 279,
   "metadata": {},
   "outputs": [
    {
     "data": {
      "text/plain": [
       "[Index(['BasePay', 'OvertimePay', 'OtherPay', 'Benefits', 'TotalPay',\n",
       "        'TotalPayBenefits', 'Year'],\n",
       "       dtype='object')]"
      ]
     },
     "execution_count": 279,
     "metadata": {},
     "output_type": "execute_result"
    }
   ],
   "source": [
    "#this code will compile all numerical features into a single list\n",
    "\n",
    "numeric_features = [data._get_numeric_data().columns]\n",
    "numeric_features"
   ]
  },
  {
   "cell_type": "code",
   "execution_count": 286,
   "metadata": {},
   "outputs": [
    {
     "data": {
      "text/html": [
       "<div>\n",
       "<style scoped>\n",
       "    .dataframe tbody tr th:only-of-type {\n",
       "        vertical-align: middle;\n",
       "    }\n",
       "\n",
       "    .dataframe tbody tr th {\n",
       "        vertical-align: top;\n",
       "    }\n",
       "\n",
       "    .dataframe thead th {\n",
       "        text-align: right;\n",
       "    }\n",
       "</style>\n",
       "<table border=\"1\" class=\"dataframe\">\n",
       "  <thead>\n",
       "    <tr style=\"text-align: right;\">\n",
       "      <th></th>\n",
       "      <th>BasePay</th>\n",
       "      <th>OvertimePay</th>\n",
       "      <th>OtherPay</th>\n",
       "      <th>Benefits</th>\n",
       "      <th>TotalPay</th>\n",
       "      <th>TotalPayBenefits</th>\n",
       "      <th>Year</th>\n",
       "    </tr>\n",
       "  </thead>\n",
       "  <tbody>\n",
       "    <tr>\n",
       "      <th>count</th>\n",
       "      <td>273310.000000</td>\n",
       "      <td>135578.000000</td>\n",
       "      <td>192091.000000</td>\n",
       "      <td>273171.000000</td>\n",
       "      <td>275701.00000</td>\n",
       "      <td>276057.000000</td>\n",
       "      <td>276117.000000</td>\n",
       "    </tr>\n",
       "    <tr>\n",
       "      <th>mean</th>\n",
       "      <td>71347.111171</td>\n",
       "      <td>11874.039556</td>\n",
       "      <td>4942.118636</td>\n",
       "      <td>25330.475746</td>\n",
       "      <td>80010.82789</td>\n",
       "      <td>104973.179514</td>\n",
       "      <td>2015.103612</td>\n",
       "    </tr>\n",
       "    <tr>\n",
       "      <th>std</th>\n",
       "      <td>45579.550886</td>\n",
       "      <td>16528.292417</td>\n",
       "      <td>8298.017885</td>\n",
       "      <td>14929.536362</td>\n",
       "      <td>53756.48514</td>\n",
       "      <td>67568.885863</td>\n",
       "      <td>1.997828</td>\n",
       "    </tr>\n",
       "    <tr>\n",
       "      <th>min</th>\n",
       "      <td>0.100000</td>\n",
       "      <td>0.010000</td>\n",
       "      <td>0.010000</td>\n",
       "      <td>0.010000</td>\n",
       "      <td>0.01000</td>\n",
       "      <td>0.010000</td>\n",
       "      <td>2012.000000</td>\n",
       "    </tr>\n",
       "    <tr>\n",
       "      <th>25%</th>\n",
       "      <td>38184.827500</td>\n",
       "      <td>1703.382500</td>\n",
       "      <td>624.000000</td>\n",
       "      <td>13818.940000</td>\n",
       "      <td>39920.00000</td>\n",
       "      <td>53169.230000</td>\n",
       "      <td>2013.000000</td>\n",
       "    </tr>\n",
       "    <tr>\n",
       "      <th>50%</th>\n",
       "      <td>68869.610000</td>\n",
       "      <td>5624.555000</td>\n",
       "      <td>2009.650000</td>\n",
       "      <td>28476.920000</td>\n",
       "      <td>76075.46000</td>\n",
       "      <td>104469.420000</td>\n",
       "      <td>2015.000000</td>\n",
       "    </tr>\n",
       "    <tr>\n",
       "      <th>75%</th>\n",
       "      <td>101088.000000</td>\n",
       "      <td>15404.342500</td>\n",
       "      <td>6146.535000</td>\n",
       "      <td>35363.415000</td>\n",
       "      <td>112818.95000</td>\n",
       "      <td>148021.490000</td>\n",
       "      <td>2017.000000</td>\n",
       "    </tr>\n",
       "    <tr>\n",
       "      <th>max</th>\n",
       "      <td>592394.340000</td>\n",
       "      <td>309481.030000</td>\n",
       "      <td>342802.630000</td>\n",
       "      <td>125891.730000</td>\n",
       "      <td>592394.34000</td>\n",
       "      <td>712802.360000</td>\n",
       "      <td>2018.000000</td>\n",
       "    </tr>\n",
       "  </tbody>\n",
       "</table>\n",
       "</div>"
      ],
      "text/plain": [
       "             BasePay    OvertimePay       OtherPay       Benefits  \\\n",
       "count  273310.000000  135578.000000  192091.000000  273171.000000   \n",
       "mean    71347.111171   11874.039556    4942.118636   25330.475746   \n",
       "std     45579.550886   16528.292417    8298.017885   14929.536362   \n",
       "min         0.100000       0.010000       0.010000       0.010000   \n",
       "25%     38184.827500    1703.382500     624.000000   13818.940000   \n",
       "50%     68869.610000    5624.555000    2009.650000   28476.920000   \n",
       "75%    101088.000000   15404.342500    6146.535000   35363.415000   \n",
       "max    592394.340000  309481.030000  342802.630000  125891.730000   \n",
       "\n",
       "           TotalPay  TotalPayBenefits           Year  \n",
       "count  275701.00000     276057.000000  276117.000000  \n",
       "mean    80010.82789     104973.179514    2015.103612  \n",
       "std     53756.48514      67568.885863       1.997828  \n",
       "min         0.01000          0.010000    2012.000000  \n",
       "25%     39920.00000      53169.230000    2013.000000  \n",
       "50%     76075.46000     104469.420000    2015.000000  \n",
       "75%    112818.95000     148021.490000    2017.000000  \n",
       "max    592394.34000     712802.360000    2018.000000  "
      ]
     },
     "execution_count": 286,
     "metadata": {},
     "output_type": "execute_result"
    }
   ],
   "source": [
    "for col in numeric_features:\n",
    "    data = data[data[col] > 0]       # removes rows with entries in their numeric features less than 0\n",
    "data.describe()    # this is to check the minimum values of all columns and confirm if the extraction process was successful"
   ]
  },
  {
   "cell_type": "code",
   "execution_count": 281,
   "metadata": {},
   "outputs": [
    {
     "data": {
      "text/plain": [
       "[{'EmployeeName', 'JobTitle'}]"
      ]
     },
     "execution_count": 281,
     "metadata": {},
     "output_type": "execute_result"
    }
   ],
   "source": [
    "categorical_features = [set(data.columns) - set(data._get_numeric_data().columns)]\n",
    "categorical_features"
   ]
  },
  {
   "cell_type": "code",
   "execution_count": 282,
   "metadata": {},
   "outputs": [
    {
     "data": {
      "text/plain": [
       "Year\n",
       "2012    66212.629578\n",
       "2013    69630.030216\n",
       "2014    67316.721920\n",
       "2015    69515.811885\n",
       "2016    72123.238420\n",
       "2017    75265.923215\n",
       "2018    78076.808437\n",
       "Name: BasePay, dtype: float64"
      ]
     },
     "execution_count": 282,
     "metadata": {},
     "output_type": "execute_result"
    }
   ],
   "source": [
    "data.groupby('Year').mean()['BasePay']"
   ]
  },
  {
   "cell_type": "code",
   "execution_count": 283,
   "metadata": {},
   "outputs": [
    {
     "data": {
      "text/plain": [
       "<matplotlib.axes._subplots.AxesSubplot at 0x16688365280>"
      ]
     },
     "execution_count": 283,
     "metadata": {},
     "output_type": "execute_result"
    },
    {
     "data": {
      "image/png": "[encoded data removed]",
      "text/plain": [
       "<Figure size 432x288 with 1 Axes>"
      ]
     },
     "metadata": {
      "needs_background": "light"
     },
     "output_type": "display_data"
    }
   ],
   "source": [
    "sns.distplot(data.groupby('Year').mean()['BasePay'], hist=True, kde=True)"
   ]
  },
  {
   "cell_type": "code",
   "execution_count": 284,
   "metadata": {},
   "outputs": [
    {
     "data": {
      "text/plain": [
       "<matplotlib.axes._subplots.AxesSubplot at 0x16681ed1d60>"
      ]
     },
     "execution_count": 284,
     "metadata": {},
     "output_type": "execute_result"
    },
    {
     "data": {
      "image/png": "[encoded data removed]",
      "text/plain": [
       "<Figure size 432x288 with 1 Axes>"
      ]
     },
     "metadata": {
      "needs_background": "light"
     },
     "output_type": "display_data"
    }
   ],
   "source": [
    "sns.countplot(x='Year', data=data)"
   ]
  },
  {
   "cell_type": "code",
   "execution_count": 285,
   "metadata": {},
   "outputs": [
    {
     "data": {
      "text/plain": [
       "<matplotlib.axes._subplots.AxesSubplot at 0x16681efa280>"
      ]
     },
     "execution_count": 285,
     "metadata": {},
     "output_type": "execute_result"
    },
    {
     "data": {
      "image/png": "[encoded data removed]",
      "text/plain": [
       "<Figure size 864x432 with 1 Axes>"
      ]
     },
     "metadata": {
      "needs_background": "light"
     },
     "output_type": "display_data"
    }
   ],
   "source": [
    "plt.figure(figsize=(12,6))\n",
    "sns.boxplot('Year', 'TotalPayBenefits', data=data)"
   ]
  }
 ],
 "metadata": {
  "kernelspec": {
   "display_name": "Python 3.7.6 64-bit ('base': conda)",
   "language": "python",
   "name": "python37664bitbaseconda739455abeae94232adc122ace92151cb"
  },
  "language_info": {
   "codemirror_mode": {
    "name": "ipython",
    "version": 3
   },
   "file_extension": ".py",
   "mimetype": "text/x-python",
   "name": "python",
   "nbconvert_exporter": "python",
   "pygments_lexer": "ipython3",
   "version": "3.8.3"
  }
 },
 "nbformat": 4,
 "nbformat_minor": 4
}
